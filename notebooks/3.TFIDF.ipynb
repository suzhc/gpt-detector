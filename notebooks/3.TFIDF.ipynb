{
 "cells": [
  {
   "cell_type": "code",
   "execution_count": 2,
   "metadata": {},
   "outputs": [],
   "source": [
    "from utils import *\n",
    "\n",
    "train_data = read_train_data()\n",
    "test_data = read_test_data()"
   ]
  },
  {
   "cell_type": "code",
   "execution_count": 2,
   "metadata": {},
   "outputs": [],
   "source": [
    "from sklearn.feature_extraction.text import TfidfVectorizer\n",
    "\n",
    "tfidf = TfidfVectorizer()\n",
    "tfidf.fit(train_data['content'].apply(lambda x: ' '.join(x)))\n",
    "train_tfidf_feat = tfidf.transform(train_data['content'].apply(lambda x: ' '.join(x)))\n",
    "test_tfidf_feat = tfidf.transform(train_data['content'].apply(lambda x: ' '.join(x)))\n",
    "\n",
    "tfidf = TfidfVectorizer(ngram_range=(1,2), max_features=5000)\n",
    "tfidf.fit(train_data['content'].apply(lambda x: ' '.join(x)))\n",
    "train_tfidf_feat = tfidf.transform(train_data['content'].apply(lambda x: ' '.join(x)))\n",
    "test_tfidf_feat = tfidf.transform(train_data['content'].apply(lambda x: ' '.join(x)))"
   ]
  },
  {
   "cell_type": "code",
   "execution_count": 4,
   "metadata": {},
   "outputs": [
    {
     "data": {
      "text/plain": [
       "((14000,), (14000, 5000))"
      ]
     },
     "execution_count": 4,
     "metadata": {},
     "output_type": "execute_result"
    }
   ],
   "source": [
    "train_data['content'].shape, train_tfidf_feat.shape"
   ]
  },
  {
   "cell_type": "code",
   "execution_count": 6,
   "metadata": {},
   "outputs": [
    {
     "data": {
      "text/plain": [
       "5000"
      ]
     },
     "execution_count": 6,
     "metadata": {},
     "output_type": "execute_result"
    }
   ],
   "source": [
    "len(tfidf.get_feature_names_out())"
   ]
  },
  {
   "cell_type": "code",
   "execution_count": 4,
   "metadata": {},
   "outputs": [
    {
     "name": "stdout",
     "output_type": "stream",
     "text": [
      "              precision    recall  f1-score   support\n",
      "\n",
      "           0      0.981     0.999     0.990     11836\n",
      "           1      0.992     0.892     0.940      2164\n",
      "\n",
      "    accuracy                          0.982     14000\n",
      "   macro avg      0.986     0.946     0.965     14000\n",
      "weighted avg      0.982     0.982     0.982     14000\n",
      "\n"
     ]
    }
   ],
   "source": [
    "from sklearn.feature_extraction.text import TfidfVectorizer\n",
    "\n",
    "from sklearn.model_selection import cross_val_predict\n",
    "from sklearn.linear_model import LogisticRegression\n",
    "from sklearn.metrics import classification_report\n",
    "\n",
    "tfidf = TfidfVectorizer()\n",
    "tfidf.fit(train_data['content'].apply(lambda x: ' '.join(x)))\n",
    "train_tfidf_feat = tfidf.transform(train_data['content'].apply(lambda x: ' '.join(x)))\n",
    "test_tfidf_feat = tfidf.transform(test_data['content'].apply(lambda x: ' '.join(x)))\n",
    "\n",
    "# 使用cross_val_predict()函数进行交叉验证\n",
    "val_pred = cross_val_predict(\n",
    "    LogisticRegression(),\n",
    "    train_tfidf_feat,\n",
    "    train_data['label']\n",
    ")\n",
    "# 计算并输出分类报告\n",
    "print(classification_report(train_data['label'], val_pred, digits=3))"
   ]
  },
  {
   "cell_type": "code",
   "execution_count": 5,
   "metadata": {},
   "outputs": [],
   "source": [
    "# 生成测试集结果\n",
    "m = LogisticRegression()\n",
    "m.fit(train_tfidf_feat, train_data['label'])\n",
    "test_pred = m.predict(test_tfidf_feat)\n",
    "test_data['label'] = test_pred\n",
    "test_data[['name', 'label']].to_csv('lr.csv', index=None)"
   ]
  }
 ],
 "metadata": {
  "kernelspec": {
   "display_name": "base",
   "language": "python",
   "name": "python3"
  },
  "language_info": {
   "codemirror_mode": {
    "name": "ipython",
    "version": 3
   },
   "file_extension": ".py",
   "mimetype": "text/x-python",
   "name": "python",
   "nbconvert_exporter": "python",
   "pygments_lexer": "ipython3",
   "version": "3.10.10"
  },
  "orig_nbformat": 4
 },
 "nbformat": 4,
 "nbformat_minor": 2
}
