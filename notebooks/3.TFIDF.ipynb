{
 "cells": [
  {
   "cell_type": "code",
   "execution_count": 1,
   "metadata": {},
   "outputs": [],
   "source": [
    "from utils import *\n",
    "import warnings\n",
    "warnings.filterwarnings('ignore')\n",
    "\n",
    "train_data = read_train_data()\n",
    "test_data = read_test_data()"
   ]
  },
  {
   "cell_type": "code",
   "execution_count": 2,
   "metadata": {},
   "outputs": [],
   "source": [
    "from sklearn.feature_extraction.text import TfidfVectorizer\n",
    "\n",
    "tfidf = TfidfVectorizer()\n",
    "tfidf.fit(train_data['content'].apply(lambda x: ' '.join(x)))\n",
    "train_tfidf_feat = tfidf.transform(train_data['content'].apply(lambda x: ' '.join(x)))\n",
    "test_tfidf_feat = tfidf.transform(test_data['content'].apply(lambda x: ' '.join(x)))\n",
    "\n",
    "tfidf = TfidfVectorizer(ngram_range=(1,2), max_features=5000)\n",
    "tfidf.fit(train_data['content'].apply(lambda x: ' '.join(x)))\n",
    "train_tfidf_feat = tfidf.transform(train_data['content'].apply(lambda x: ' '.join(x)))\n",
    "test_tfidf_feat = tfidf.transform(test_data['content'].apply(lambda x: ' '.join(x)))"
   ]
  },
  {
   "cell_type": "code",
   "execution_count": 3,
   "metadata": {},
   "outputs": [
    {
     "data": {
      "text/plain": [
       "((14000,), (14000, 5000))"
      ]
     },
     "execution_count": 3,
     "metadata": {},
     "output_type": "execute_result"
    }
   ],
   "source": [
    "train_data['content'].shape, train_tfidf_feat.shape"
   ]
  },
  {
   "cell_type": "code",
   "execution_count": 4,
   "metadata": {},
   "outputs": [
    {
     "data": {
      "text/plain": [
       "(10000,)"
      ]
     },
     "execution_count": 4,
     "metadata": {},
     "output_type": "execute_result"
    }
   ],
   "source": [
    "test_data['content'].shape"
   ]
  },
  {
   "cell_type": "code",
   "execution_count": 5,
   "metadata": {},
   "outputs": [
    {
     "data": {
      "text/plain": [
       "array(['1000', '1000 123', '1000 1318', ..., '998 4982', '998 5212',\n",
       "       '998 831'], dtype=object)"
      ]
     },
     "execution_count": 5,
     "metadata": {},
     "output_type": "execute_result"
    }
   ],
   "source": [
    "tfidf.get_feature_names_out()"
   ]
  },
  {
   "cell_type": "markdown",
   "metadata": {},
   "source": [
    "# 线性模型"
   ]
  },
  {
   "cell_type": "code",
   "execution_count": 6,
   "metadata": {},
   "outputs": [
    {
     "name": "stdout",
     "output_type": "stream",
     "text": [
      "              precision    recall  f1-score   support\n",
      "\n",
      "           0      0.996     0.999     0.998     11836\n",
      "           1      0.994     0.981     0.987      2164\n",
      "\n",
      "    accuracy                          0.996     14000\n",
      "   macro avg      0.995     0.990     0.993     14000\n",
      "weighted avg      0.996     0.996     0.996     14000\n",
      "\n"
     ]
    }
   ],
   "source": [
    "from sklearn.feature_extraction.text import TfidfVectorizer\n",
    "from sklearn.model_selection import cross_val_predict, GridSearchCV\n",
    "from sklearn.linear_model import LogisticRegression\n",
    "from sklearn.metrics import classification_report\n",
    "\n",
    "param_grid = {\n",
    "    'C': [0.001, 0.01, 0.1, 1, 10, 100],\n",
    "    'max_iter': [100, 500, 1000]\n",
    "}\n",
    "\n",
    "model = LogisticRegression()\n",
    "grid_search = GridSearchCV(model, param_grid, cv=5)\n",
    "grid_search.fit(train_tfidf_feat, train_data['label'])\n",
    "\n",
    "best = grid_search.best_estimator_\n",
    "\n",
    "# 使用cross_val_predict()函数进行交叉验证\n",
    "val_pred = cross_val_predict(\n",
    "    LogisticRegression(**best.get_params()),\n",
    "    train_tfidf_feat,\n",
    "    train_data['label']\n",
    ")\n",
    "# 计算并输出分类报告\n",
    "print(classification_report(train_data['label'], val_pred, digits=3))"
   ]
  },
  {
   "cell_type": "code",
   "execution_count": 7,
   "metadata": {},
   "outputs": [],
   "source": [
    "# 生成测试集结果\n",
    "m = LogisticRegression(**best.get_params())\n",
    "m.fit(train_tfidf_feat, train_data['label'])\n",
    "test_pred = m.predict(test_tfidf_feat)\n",
    "test_data['label'] = test_pred\n",
    "test_data[['name', 'label']].to_csv('lr.csv', index=None)"
   ]
  },
  {
   "cell_type": "markdown",
   "metadata": {},
   "source": [
    "# Xgboost 模型"
   ]
  },
  {
   "cell_type": "code",
   "execution_count": 10,
   "metadata": {},
   "outputs": [
    {
     "name": "stdout",
     "output_type": "stream",
     "text": [
      "              precision    recall  f1-score   support\n",
      "\n",
      "           0      0.995     0.997     0.996     11836\n",
      "           1      0.985     0.971     0.978      2164\n",
      "\n",
      "    accuracy                          0.993     14000\n",
      "   macro avg      0.990     0.984     0.987     14000\n",
      "weighted avg      0.993     0.993     0.993     14000\n",
      "\n"
     ]
    }
   ],
   "source": [
    "import xgboost as xgb\n",
    "from sklearn.model_selection import cross_val_predict\n",
    "from sklearn.metrics import classification_report\n",
    "\n",
    "param_grid = {\n",
    "    'max_depth': [3, 5, 7],\n",
    "    'n_estimators': [50, 100, 200],\n",
    "    'learning_rate': [0.1, 0.3, 0.5]\n",
    "}\n",
    "\n",
    "xgb_model = xgb.XGBClassifier()\n",
    "grid_search = GridSearchCV(\n",
    "    xgb_model,\n",
    "    param_grid,\n",
    "    cv=5,\n",
    ")\n",
    "\n",
    "grid_search.fit(train_tfidf_feat, train_data['label'])\n",
    "best = grid_search.best_estimator_\n",
    "\n",
    "val_pred = cross_val_predict(\n",
    "    xgb.XGBClassifier(**best.get_params()),\n",
    "    train_tfidf_feat,\n",
    "    train_data['label']\n",
    ")\n",
    "\n",
    "print(classification_report(train_data['label'], val_pred, digits=3))"
   ]
  },
  {
   "cell_type": "code",
   "execution_count": 11,
   "metadata": {},
   "outputs": [],
   "source": [
    "m = xgb.XGBClassifier(**best.get_params())\n",
    "m.fit(train_tfidf_feat, train_data['label'])\n",
    "test_pred = m.predict(test_tfidf_feat)\n",
    "test_data['label'] = test_pred\n",
    "test_data[['name', 'label']].to_csv('xgb.csv', index=None)"
   ]
  }
 ],
 "metadata": {
  "kernelspec": {
   "display_name": "base",
   "language": "python",
   "name": "python3"
  },
  "language_info": {
   "codemirror_mode": {
    "name": "ipython",
    "version": 3
   },
   "file_extension": ".py",
   "mimetype": "text/x-python",
   "name": "python",
   "nbconvert_exporter": "python",
   "pygments_lexer": "ipython3",
   "version": "3.10.12"
  },
  "orig_nbformat": 4
 },
 "nbformat": 4,
 "nbformat_minor": 2
}
