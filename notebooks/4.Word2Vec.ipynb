{
 "cells": [
  {
   "cell_type": "markdown",
   "metadata": {},
   "source": [
    "# Word2Vec"
   ]
  },
  {
   "cell_type": "markdown",
   "metadata": {},
   "source": [
    "示例"
   ]
  },
  {
   "cell_type": "code",
   "execution_count": 1,
   "metadata": {},
   "outputs": [
    {
     "data": {
      "text/plain": [
       "[('2', 0.06797593086957932),\n",
       " ('4', -0.013514931313693523),\n",
       " ('3', -0.1116705983877182)]"
      ]
     },
     "execution_count": 1,
     "metadata": {},
     "output_type": "execute_result"
    }
   ],
   "source": [
    "from gensim.models import Word2Vec\n",
    "from utils import *\n",
    "\n",
    "train_data = read_train_data()\n",
    "test_data = read_test_data()\n",
    "\n",
    "model = Word2Vec(sentences=[['1', '2', '3'], ['2', '3', '4']], vector_size=100, window=5, min_count=1, workers=4)\n",
    "model.wv.most_similar('1', topn=10)\n"
   ]
  },
  {
   "cell_type": "markdown",
   "metadata": {},
   "source": [
    "使用真实数据训练Word2Vec模型"
   ]
  },
  {
   "cell_type": "code",
   "execution_count": 2,
   "metadata": {},
   "outputs": [],
   "source": [
    "model = Word2Vec(sentences=list(train_data['content']), vector_size=100, window=5, min_count=1, workers=12)"
   ]
  },
  {
   "cell_type": "markdown",
   "metadata": {},
   "source": [
    "# 分类模型"
   ]
  },
  {
   "cell_type": "code",
   "execution_count": 3,
   "metadata": {},
   "outputs": [],
   "source": [
    "import torch.nn as nn\n",
    "import torch\n",
    "from torch.utils.data import DataLoader, TensorDataset\n",
    "from torch.nn import functional as F\n",
    "import numpy as np\n",
    "\n",
    "class TextCNN(nn.Module):\n",
    "    def __init__(self, vocab_size, embed_size, output_size, embedding_matrix, kernel_sizes=[3, 4, 5], num_filters=64):\n",
    "        super(TextCNN, self).__init__()\n",
    "\n",
    "        # 嵌入层\n",
    "        self.embedding = nn.Embedding(vocab_size, embed_size)\n",
    "        self.embedding.weight.data.copy_(torch.from_numpy(embedding_matrix))\n",
    "        self.embedding.weight.requires_grad = False\n",
    "\n",
    "        # 卷积层\n",
    "        self.convs = nn.ModuleList([nn.Conv2d(1, num_filters, (k, embed_size)) for k in kernel_sizes])\n",
    "\n",
    "        # 全连接层\n",
    "        self.fc = nn.Linear(num_filters * len(kernel_sizes), output_size)\n",
    "\n",
    "    def forward(self, x):\n",
    "        x = self.embedding(x).unsqueeze(1) # [batch, 1, seq_len, embed_size]\n",
    "        x = [F.relu(conv(x)).squeeze(3) for conv in self.convs] # [batch, num_filters, seq_len-k+1]\n",
    "        x = [F.max_pool1d(line, line.size(2)).squeeze(2) for line in x] # [batch, num_filters]\n",
    "        x = torch.cat(x, 1) # [batch, num_filters * len(kernel_sizes)]\n",
    "        logits = self.fc(x)\n",
    "        return logits\n",
    "\n",
    "class BiLSTMClassifier(nn.Module):\n",
    "    def __init__(self, vocab_size, embed_size, hidden_size, num_classes, embedding_matrix):\n",
    "        super(BiLSTMClassifier, self).__init__()\n",
    "        self.embedding = nn.Embedding(vocab_size, embed_size)\n",
    "        self.embedding.weight = nn.Parameter(torch.tensor(embedding_matrix, dtype=torch.float32))\n",
    "        self.embedding.weight.requires_grad = False # 使用预训练的词向量\n",
    "        self.lstm = nn.LSTM(embed_size, hidden_size, bidirectional=True, batch_first=True)\n",
    "        self.fc = nn.Linear(hidden_size * 2, num_classes)\n",
    "\n",
    "    def forward(self, x):\n",
    "        x = self.embedding(x)\n",
    "        lstm_out, _ = self.lstm(x)\n",
    "        avg_pool = torch.mean(lstm_out, 1)\n",
    "        output = self.fc(avg_pool)\n",
    "        return output\n",
    "\n"
   ]
  },
  {
   "cell_type": "markdown",
   "metadata": {},
   "source": [
    "# 准备数据，创建dataloader"
   ]
  },
  {
   "cell_type": "code",
   "execution_count": 4,
   "metadata": {},
   "outputs": [],
   "source": [
    "import torch\n",
    "from torch.utils.data import DataLoader, TensorDataset\n",
    "from torch.nn import functional as F\n",
    "import numpy as np\n",
    "\n",
    "# 创建词汇表\n",
    "vocab = {word: index for index, word in enumerate(model.wv.index_to_key)}\n",
    "vocab_size = len(vocab)\n",
    "\n",
    "# 创建嵌入矩阵\n",
    "embedding_matrix = np.zeros((vocab_size, 100))\n",
    "for word, index in vocab.items():\n",
    "    embedding_matrix[index] = model.wv[word]\n",
    "\n",
    "# 文本转换为索引\n",
    "def text_to_index(texts):\n",
    "    indices = []\n",
    "    for text in texts:\n",
    "        index_list = [vocab[word] for word in text if word in vocab]\n",
    "        indices.append(index_list)\n",
    "    return indices\n",
    "\n",
    "# 对文本和标签进行处理\n",
    "x_train = text_to_index(train_data['content'])\n",
    "y_train = train_data['label']\n",
    "\n",
    "# pad sequences\n",
    "def pad_sequences(sequences, maxlen=None, padding='pre', truncating='pre', value=0.):\n",
    "\n",
    "    lengths = [len(s) for s in sequences]\n",
    "    nb_samples = len(sequences)\n",
    "\n",
    "    if maxlen is None:\n",
    "        maxlen = np.max(lengths)\n",
    "\n",
    "    x = (np.ones((nb_samples, maxlen)) * value).astype(np.int32)\n",
    "    for idx, s in enumerate(sequences):\n",
    "        if len(s) == 0:\n",
    "            continue  # empty list was found\n",
    "        if truncating == 'pre':\n",
    "            trunc = s[-maxlen:]\n",
    "        elif truncating == 'post':\n",
    "            trunc = s[:maxlen]\n",
    "        else:\n",
    "            raise ValueError(\"Truncating type '%s' not understood\" % padding)\n",
    "\n",
    "        if padding == 'post':\n",
    "            x[idx, :len(trunc)] = trunc\n",
    "        elif padding == 'pre':\n",
    "            x[idx, -len(trunc):] = trunc\n",
    "        else:\n",
    "            raise ValueError(\"Padding type '%s' not understood\" % padding)\n",
    "\n",
    "    return x\n",
    "\n",
    "x_train = pad_sequences(x_train, maxlen=214, padding='post', truncating='post')\n",
    "\n",
    "\n",
    "x_train_tensor = torch.tensor(x_train, dtype=torch.long)\n",
    "y_train_tensor = torch.tensor(y_train.values, dtype=torch.long)"
   ]
  },
  {
   "cell_type": "markdown",
   "metadata": {},
   "source": [
    "# 在训练集上进行五折交叉验证"
   ]
  },
  {
   "cell_type": "code",
   "execution_count": 6,
   "metadata": {},
   "outputs": [
    {
     "name": "stdout",
     "output_type": "stream",
     "text": [
      "Fold 1\n"
     ]
    },
    {
     "name": "stderr",
     "output_type": "stream",
     "text": [
      "  0%|          | 0/100 [00:00<?, ?it/s]"
     ]
    },
    {
     "name": "stderr",
     "output_type": "stream",
     "text": [
      " 17%|█▋        | 17/100 [00:54<04:27,  3.23s/it]"
     ]
    },
    {
     "name": "stdout",
     "output_type": "stream",
     "text": [
      "Early stopping at epoch 18\n"
     ]
    },
    {
     "name": "stderr",
     "output_type": "stream",
     "text": [
      "\n"
     ]
    },
    {
     "name": "stdout",
     "output_type": "stream",
     "text": [
      "              precision    recall  f1-score   support\n",
      "\n",
      "           0     0.9912    0.9979    0.9945      2357\n",
      "           1     0.9883    0.9526    0.9701       443\n",
      "\n",
      "    accuracy                         0.9907      2800\n",
      "   macro avg     0.9897    0.9752    0.9823      2800\n",
      "weighted avg     0.9907    0.9907    0.9906      2800\n",
      "\n",
      "Fold 2\n"
     ]
    },
    {
     "name": "stderr",
     "output_type": "stream",
     "text": [
      " 10%|█         | 10/100 [00:33<05:04,  3.39s/it]"
     ]
    },
    {
     "name": "stdout",
     "output_type": "stream",
     "text": [
      "Early stopping at epoch 11\n"
     ]
    },
    {
     "name": "stderr",
     "output_type": "stream",
     "text": [
      "\n"
     ]
    },
    {
     "name": "stdout",
     "output_type": "stream",
     "text": [
      "              precision    recall  f1-score   support\n",
      "\n",
      "           0     0.9840    1.0000    0.9919      2396\n",
      "           1     1.0000    0.9035    0.9493       404\n",
      "\n",
      "    accuracy                         0.9861      2800\n",
      "   macro avg     0.9920    0.9517    0.9706      2800\n",
      "weighted avg     0.9863    0.9861    0.9858      2800\n",
      "\n",
      "Fold 3\n"
     ]
    },
    {
     "name": "stderr",
     "output_type": "stream",
     "text": [
      " 10%|█         | 10/100 [00:33<05:04,  3.39s/it]"
     ]
    },
    {
     "name": "stdout",
     "output_type": "stream",
     "text": [
      "Early stopping at epoch 11\n"
     ]
    },
    {
     "name": "stderr",
     "output_type": "stream",
     "text": [
      "\n"
     ]
    },
    {
     "name": "stdout",
     "output_type": "stream",
     "text": [
      "              precision    recall  f1-score   support\n",
      "\n",
      "           0     0.9886    0.9983    0.9934      2348\n",
      "           1     0.9907    0.9403    0.9648       452\n",
      "\n",
      "    accuracy                         0.9889      2800\n",
      "   macro avg     0.9896    0.9693    0.9791      2800\n",
      "weighted avg     0.9889    0.9889    0.9888      2800\n",
      "\n",
      "Fold 4\n"
     ]
    },
    {
     "name": "stderr",
     "output_type": "stream",
     "text": [
      " 18%|█▊        | 18/100 [00:58<04:24,  3.23s/it]"
     ]
    },
    {
     "name": "stdout",
     "output_type": "stream",
     "text": [
      "Early stopping at epoch 19\n"
     ]
    },
    {
     "name": "stderr",
     "output_type": "stream",
     "text": [
      "\n"
     ]
    },
    {
     "name": "stdout",
     "output_type": "stream",
     "text": [
      "              precision    recall  f1-score   support\n",
      "\n",
      "           0     0.9949    0.9966    0.9958      2362\n",
      "           1     0.9816    0.9726    0.9771       438\n",
      "\n",
      "    accuracy                         0.9929      2800\n",
      "   macro avg     0.9882    0.9846    0.9864      2800\n",
      "weighted avg     0.9928    0.9929    0.9928      2800\n",
      "\n",
      "Fold 5\n"
     ]
    },
    {
     "name": "stderr",
     "output_type": "stream",
     "text": [
      " 15%|█▌        | 15/100 [00:48<04:36,  3.26s/it]"
     ]
    },
    {
     "name": "stdout",
     "output_type": "stream",
     "text": [
      "Early stopping at epoch 16\n"
     ]
    },
    {
     "name": "stderr",
     "output_type": "stream",
     "text": [
      "\n"
     ]
    },
    {
     "name": "stdout",
     "output_type": "stream",
     "text": [
      "              precision    recall  f1-score   support\n",
      "\n",
      "           0     0.9887    0.9992    0.9939      2373\n",
      "           1     0.9950    0.9368    0.9650       427\n",
      "\n",
      "    accuracy                         0.9896      2800\n",
      "   macro avg     0.9919    0.9680    0.9795      2800\n",
      "weighted avg     0.9897    0.9896    0.9895      2800\n",
      "\n",
      "Mean accuracy: 0.9896428571428573\n"
     ]
    }
   ],
   "source": [
    "from sklearn.model_selection import KFold\n",
    "from sklearn.metrics import classification_report, accuracy_score\n",
    "from tqdm import tqdm\n",
    "\n",
    "\n",
    "output_size = len(set(y_train))\n",
    "embed_size = 100\n",
    "patience = 5\n",
    "# for BiLSTM\n",
    "hidden_size = 256\n",
    "\n",
    "# Use GPU\n",
    "device = torch.device('cuda' if torch.cuda.is_available() else 'cpu')\n",
    "\n",
    "kf = KFold(n_splits=5, shuffle=True, random_state=42)\n",
    "\n",
    "acc_list = []\n",
    "for fold, (train_index, val_index) in enumerate(kf.split(x_train_tensor)):\n",
    "    print(f\"Fold {fold + 1}\")\n",
    "    x_train_fold, x_val_fold = x_train_tensor[train_index], x_train_tensor[val_index]\n",
    "    y_train_fold, y_val_fold = y_train_tensor[train_index], y_train_tensor[val_index]\n",
    "\n",
    "    train_dataset = TensorDataset(x_train_fold, y_train_fold)\n",
    "    val_dataset = TensorDataset(x_val_fold, y_val_fold)\n",
    "\n",
    "    train_loader = DataLoader(train_dataset, batch_size=128)\n",
    "    val_loader = DataLoader(val_dataset, batch_size=128)\n",
    "\n",
    "    # 定义和训练模型\n",
    "    # 1.TextCNN\n",
    "    # 2.BiLSTM\n",
    "\n",
    "    # model = TextCNN(vocab_size, embed_size, output_size, embedding_matrix).to(device)\n",
    "\n",
    "\n",
    "    model = BiLSTMClassifier(vocab_size, embed_size, hidden_size, output_size, embedding_matrix).to(device)\n",
    "    \n",
    "    loss_function = nn.CrossEntropyLoss()\n",
    "    optimizer = torch.optim.Adam(model.parameters(), lr=0.001)\n",
    "\n",
    "    best_val_loss = float('inf')\n",
    "    early_stopping_counter = 0\n",
    "\n",
    "    for epoch in tqdm(range(100)): # 使用tqdm库进行进度展示\n",
    "        model.train()\n",
    "        for batch_text, batch_labels in train_loader:\n",
    "            # 将数据放到GPU上\n",
    "            batch_text, batch_labels = batch_text.to(device), batch_labels.to(device) \n",
    "            optimizer.zero_grad()\n",
    "            logits = model(batch_text)\n",
    "            loss = loss_function(logits, batch_labels)\n",
    "            loss.backward()\n",
    "            optimizer.step()\n",
    "        \n",
    "        model.eval()\n",
    "        val_loss = 0\n",
    "        with torch.no_grad():\n",
    "            for batch_text, batch_labels in val_loader:\n",
    "                batch_text, batch_labels = batch_text.to(device), batch_labels.to(device)\n",
    "                logits = model(batch_text)\n",
    "                loss = loss_function(logits, batch_labels)\n",
    "                val_loss += loss.item()\n",
    "        val_loss /= len(val_loader)\n",
    "\n",
    "        if val_loss < best_val_loss:\n",
    "            best_val_loss = val_loss\n",
    "            early_stopping_counter = 0\n",
    "        else:\n",
    "            early_stopping_counter += 1\n",
    "            if early_stopping_counter >= patience:\n",
    "                print(f\"Early stopping at epoch {epoch + 1}\")\n",
    "                break\n",
    "\n",
    "    # 验证模型\n",
    "    model.eval()\n",
    "    all_preds = []\n",
    "    all_labels = []\n",
    "    with torch.no_grad():\n",
    "        for batch_text, batch_labels in val_loader:\n",
    "            batch_text, batch_labels = batch_text.to(device), batch_labels.to(device)\n",
    "            logits = model(batch_text)\n",
    "            preds = torch.argmax(logits, dim=1)\n",
    "            all_preds.extend(preds.cpu().numpy())\n",
    "            all_labels.extend(batch_labels.cpu().numpy())\n",
    "\n",
    "    # 使用classification_report输出结果, 小数点后四位\n",
    "    print(classification_report(all_labels, all_preds, digits=4))\n",
    "    acc = accuracy_score(all_labels, all_preds)\n",
    "    acc_list.append(acc)\n",
    "    \n",
    "# print mean accuracy\n",
    "print(f\"Mean accuracy: {np.mean(acc_list)}\")"
   ]
  },
  {
   "cell_type": "markdown",
   "metadata": {},
   "source": [
    "# 使用全部训练集训练模型"
   ]
  },
  {
   "cell_type": "code",
   "execution_count": 9,
   "metadata": {},
   "outputs": [
    {
     "name": "stdout",
     "output_type": "stream",
     "text": [
      "Epoch 0 | Loss: 0.19075505435466766\n",
      "Epoch 1 | Loss: 0.08851882815361023\n",
      "Epoch 2 | Loss: 0.06531248986721039\n",
      "Epoch 3 | Loss: 0.033402927219867706\n",
      "Epoch 4 | Loss: 0.0113508440554142\n",
      "Epoch 5 | Loss: 0.03233465924859047\n",
      "Epoch 6 | Loss: 0.0040865130722522736\n",
      "Epoch 7 | Loss: 0.007329711690545082\n",
      "Epoch 8 | Loss: 0.008489049039781094\n",
      "Epoch 9 | Loss: 0.007022665347903967\n",
      "Epoch 10 | Loss: 0.0017358050681650639\n",
      "Epoch 11 | Loss: 0.0006290804012678564\n"
     ]
    }
   ],
   "source": [
    "# 设定超参数\n",
    "output_size = len(set(y_train))\n",
    "embed_size = 100\n",
    "patience = 5\n",
    "\n",
    "hidden_size = 256\n",
    "\n",
    "# Use GPU\n",
    "device = torch.device('cuda' if torch.cuda.is_available() else 'cpu')\n",
    "\n",
    "# 创建数据加载器\n",
    "\n",
    "train_dataset = TensorDataset(x_train_tensor, y_train_tensor)\n",
    "train_loader = DataLoader(train_dataset, batch_size=128)\n",
    "\n",
    "# 实例化模型\n",
    "# model = TextCNN(vocab_size, embed_size, output_size).to(device)\n",
    "model = BiLSTMClassifier(vocab_size, embed_size, hidden_size, output_size, embedding_matrix).to(device)\n",
    "\n",
    "# 损失函数和优化器\n",
    "loss_function = nn.CrossEntropyLoss()\n",
    "optimizer = torch.optim.Adam(model.parameters(), lr=0.001)\n",
    "\n",
    "# 训练模型\n",
    "for epoch in range(12):\n",
    "\n",
    "    for batch_text, batch_labels in train_loader:\n",
    "        optimizer.zero_grad()\n",
    "        logits = model(batch_text.to(device))\n",
    "        loss = loss_function(logits, batch_labels.to(device))\n",
    "        loss.backward()\n",
    "        optimizer.step()\n",
    "    \n",
    "\n",
    "    print(f'Epoch {epoch} | Loss: {loss.item()}')\n"
   ]
  },
  {
   "cell_type": "markdown",
   "metadata": {},
   "source": [
    "# 推理"
   ]
  },
  {
   "cell_type": "code",
   "execution_count": 10,
   "metadata": {},
   "outputs": [],
   "source": [
    "x_test = text_to_index(test_data['content'])\n",
    "x_test = pad_sequences(x_test, maxlen=214, padding='post', truncating='post')\n",
    "x_test_tensor = torch.tensor(x_test, dtype=torch.long).to(device)\n",
    "\n",
    "test_dataset = TensorDataset(x_test_tensor)\n",
    "test_loader = DataLoader(test_dataset, batch_size=128, shuffle=False)\n",
    "\n",
    "model.eval()\n",
    "test_pred = []\n",
    "with torch.no_grad():\n",
    "    for x_batch in test_loader:\n",
    "        x_batch = x_batch[0].to(device)\n",
    "        logits = model(x_batch)\n",
    "        y_pred = torch.argmax(logits, dim=1)\n",
    "        test_pred.extend(y_pred.cpu().numpy())\n",
    "\n",
    "test_data['label'] = test_pred\n",
    "test_data[['name', 'label']].to_csv('bilstm.csv', index=False)"
   ]
  }
 ],
 "metadata": {
  "kernelspec": {
   "display_name": "suzhao",
   "language": "python",
   "name": "python3"
  },
  "language_info": {
   "codemirror_mode": {
    "name": "ipython",
    "version": 3
   },
   "file_extension": ".py",
   "mimetype": "text/x-python",
   "name": "python",
   "nbconvert_exporter": "python",
   "pygments_lexer": "ipython3",
   "version": "3.10.12"
  },
  "orig_nbformat": 4
 },
 "nbformat": 4,
 "nbformat_minor": 2
}
